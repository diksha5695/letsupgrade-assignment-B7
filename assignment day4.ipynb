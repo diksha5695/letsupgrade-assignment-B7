{
  "nbformat": 4,
  "nbformat_minor": 0,
  "metadata": {
    "colab": {
      "name": "Welcome To Colaboratory",
      "provenance": [],
      "collapsed_sections": [],
      "include_colab_link": true
    },
    "kernelspec": {
      "display_name": "Python 3",
      "name": "python3"
    }
  },
  "cells": [
    {
      "cell_type": "markdown",
      "metadata": {
        "id": "view-in-github",
        "colab_type": "text"
      },
      "source": [
        "<a href=\"https://colab.research.google.com/github/diksha5695/letsupgrade-assignment-B7/blob/master/assignment%20day4.ipynb\" target=\"_parent\"><img src=\"https://colab.research.google.com/assets/colab-badge.svg\" alt=\"Open In Colab\"/></a>"
      ]
    },
    {
      "cell_type": "code",
      "metadata": {
        "id": "JAMXHEeUo0BZ",
        "colab_type": "code",
        "colab": {
          "base_uri": "https://localhost:8080/",
          "height": 54
        },
        "outputId": "6df673d9-4d7e-48df-da4c-d77cd0740653"
      },
      "source": [
        " \n",
        "#question : Print the first ArmStrong number in the range of 1042000 to 702648265 and exit the as soon as you encounter the first armstrong number. Use while loop\n",
        "#solution :\n",
        " \n",
        "lower = 1042000\n",
        "upper = 702648265\n",
        " \n",
        "for Number in range(lower, upper + 1):\n",
        "   # order of number\n",
        "   order = len(str(Number))\n",
        "    \n",
        "   # initialize sum\n",
        "   sum = 0\n",
        " \n",
        "   temp = Number\n",
        "   while temp > 0:\n",
        "       digit = temp % 10\n",
        "       sum += digit ** order\n",
        "       temp //= 10\n",
        " \n",
        "   if Number == sum:\n",
        "       print(\"The first Armstrong number between given range is: \",Number)\n",
        "       break"
      ],
      "execution_count": 1,
      "outputs": [
        {
          "output_type": "stream",
          "text": [
            "The first Armstrong number between given range is:  1741725\n"
          ],
          "name": "stdout"
        }
      ]
    }
  ]
}