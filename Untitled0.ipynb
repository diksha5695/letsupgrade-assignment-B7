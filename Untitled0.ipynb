{
  "nbformat": 4,
  "nbformat_minor": 0,
  "metadata": {
    "colab": {
      "name": "Untitled0.ipynb",
      "provenance": [],
      "authorship_tag": "ABX9TyP1LOvQD1riKJZ2Z9AZaVh9",
      "include_colab_link": true
    },
    "kernelspec": {
      "name": "python3",
      "display_name": "Python 3"
    }
  },
  "cells": [
    {
      "cell_type": "markdown",
      "metadata": {
        "id": "view-in-github",
        "colab_type": "text"
      },
      "source": [
        "<a href=\"https://colab.research.google.com/github/diksha5695/letsupgrade-assignment-B7/blob/master/Untitled0.ipynb\" target=\"_parent\"><img src=\"https://colab.research.google.com/assets/colab-badge.svg\" alt=\"Open In Colab\"/></a>"
      ]
    },
    {
      "cell_type": "code",
      "metadata": {
        "id": "5Piu2fXHsR-h",
        "colab_type": "code",
        "colab": {
          "base_uri": "https://localhost:8080/",
          "height": 122
        },
        "outputId": "ff888ec0-7f2c-4697-9954-63a2c658fd67"
      },
      "source": [
        " \n",
        " \n",
        "#functions of List data structure\n",
        " \n",
        "lst =[1,2,3,4,5,6,9.45,\"Dik\",['a', 'c', 'b'],87]\n",
        "lst. remove(6)\n",
        "print(\"list after removing element:\" ,lst)\n",
        " \n",
        "lst. append(95)\n",
        "print(\"list after appending element:\", lst)\n",
        " \n",
        "print(\"index of given element is:\" , lst. index(87))\n",
        " \n",
        "lst. reverse()\n",
        "print(\"Reverse list:\" ,lst)\n",
        " \n",
        "lst. clear()\n",
        "print(\"List is cleared \")"
      ],
      "execution_count": 21,
      "outputs": [
        {
          "output_type": "stream",
          "text": [
            "list after removing element: [1, 2, 3, 4, 5, 9.45, 'Dik', ['a', 'c', 'b'], 87]\n",
            "list after appending element: [1, 2, 3, 4, 5, 9.45, 'Dik', ['a', 'c', 'b'], 87, 95]\n",
            "index of given element is: 8\n",
            "Reverse list: [95, 87, ['a', 'c', 'b'], 'Dik', 9.45, 5, 4, 3, 2, 1]\n",
            "List is cleared \n"
          ],
          "name": "stdout"
        }
      ]
    },
    {
      "cell_type": "code",
      "metadata": {
        "id": "5dNyIkPhvQIA",
        "colab_type": "code",
        "colab": {}
      },
      "source": [
        ""
      ],
      "execution_count": null,
      "outputs": []
    },
    {
      "cell_type": "markdown",
      "metadata": {
        "id": "bXrWEDD5vRxv",
        "colab_type": "text"
      },
      "source": [
        ""
      ]
    }
  ]
}