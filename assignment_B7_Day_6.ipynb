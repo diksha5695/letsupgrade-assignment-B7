{
  "nbformat": 4,
  "nbformat_minor": 0,
  "metadata": {
    "colab": {
      "name": "Untitled5.ipynb",
      "provenance": [],
      "authorship_tag": "ABX9TyOIWDlHLun3mQSgqQDb18Ib",
      "include_colab_link": true
    },
    "kernelspec": {
      "name": "python3",
      "display_name": "Python 3"
    }
  },
  "cells": [
    {
      "cell_type": "markdown",
      "metadata": {
        "id": "view-in-github",
        "colab_type": "text"
      },
      "source": [
        "<a href=\"https://colab.research.google.com/github/diksha5695/letsupgrade-assignment-B7/blob/master/assignment_B7_Day_6.ipynb\" target=\"_parent\"><img src=\"https://colab.research.google.com/assets/colab-badge.svg\" alt=\"Open In Colab\"/></a>"
      ]
    },
    {
      "cell_type": "code",
      "metadata": {
        "id": "XGKW3YYf1FY9",
        "colab_type": "code",
        "colab": {
          "base_uri": "https://localhost:8080/",
          "height": 292
        },
        "outputId": "ea94bb6d-d218-4dbd-fa2b-ab778651f34c"
      },
      "source": [
        " \n",
        "#Question 1 : for this challenge, create a bank account class that has two attributes:\n",
        "#owner_name\n",
        "#balance\n",
        "#and two methods\n",
        "#deposit\n",
        "#withdraw\n",
        "#As an added requirement, withdrawals may not exceed the available balance\n",
        "#Instantiate your class, make several deposites and withdrawals and test to make sure the account can't be overdrawn.  \n",
        " \n",
        "#Solution :\n",
        " \n",
        "class Bank_Account: \n",
        "    def __init__(self, Owner_name): \n",
        "        self.balance = 0\n",
        "        self.Owner_name = Owner_name\n",
        "        print(f\"Hello!!! {self.Owner_name}  Welcome to the Deposit & Withdrawal Machine\") \n",
        "  \n",
        "    def deposit(self): \n",
        "        amount=float(input(\"Enter amount to be Deposited: \")) \n",
        "        self.balance += amount \n",
        "        print(\"\\n Amount Deposited:\", amount) \n",
        "  \n",
        "    def withdraw(self): \n",
        "        amount = float(input(\"Enter amount to be Withdrawn: \")) \n",
        "        if self.balance>=amount: \n",
        "            self.balance-=amount \n",
        "            print(\"\\n You Withdrew:\", amount) \n",
        "        else: \n",
        "            print(\"\\n Insufficient balance  \") \n",
        "  \n",
        "    def display(self): \n",
        "        print(\"\\n Net Available Balance=\",self.balance) \n",
        "     \n",
        "# creating an object of class \n",
        "s = Bank_Account(input('Enter Your name')) \n",
        "   \n",
        "# Calling functions with that class object \n",
        "s.deposit() \n",
        "s.withdraw() \n",
        "s.display()\n",
        " \n",
        " \n",
        "#Question 2 : for this challenge, create a cone class that has two attributes:\n",
        "#R=radius,\n",
        "#h=height\n",
        "#and two method\n",
        "#volume = pi * r*r*(h/3)\n",
        "#surface area : base : pi*r*r, side : pi*r*(r**2+h**2)/2\n",
        "#Make only one class with functions as in where required import maths \n",
        " \n",
        "#solution : \n",
        "# Importing Math library for value Of PI \n",
        "import math \n",
        "pi = math.pi \n",
        "  \n",
        "class Cone:\n",
        "    def __init__(self, r, h):\n",
        "       self.r = r\n",
        "       self.h = h\n",
        "       \n",
        " \n",
        "# Function to calculate Volume of Cone     \n",
        "    def volume(self): \n",
        "        return (1 / 3) * pi * self.r**2  * self.h\n",
        " \n",
        "# Function To Calculate Surface Area of Cone \n",
        "    def surfacearea(self): \n",
        "        base = (pi * self.r **2)\n",
        "        side = (pi * self.r * math.sqrt((self.r**2) + (self.h**2)))\n",
        "        return (pi * self.r **2) + (pi * self.r * math.sqrt((self.r**2) + (self.h**2)))\n",
        "print(\"\\n \\n Assignment 2\")\n",
        "calc_volume = Cone(5,12)\n",
        "print(f\"Volume Of Cone : {calc_volume.volume()}\")\n",
        " \n",
        "calc_surface = Cone(5,12)\n",
        "print(f\"Surface Area Of Cone : {calc_surface.surfacearea()}\")"
      ],
      "execution_count": 1,
      "outputs": [
        {
          "output_type": "stream",
          "text": [
            "Enter Your nameDiksha \n",
            "Hello!!! Diksha   Welcome to the Deposit & Withdrawal Machine\n",
            "Enter amount to be Deposited: 1000\n",
            "\n",
            " Amount Deposited: 1000.0\n",
            "Enter amount to be Withdrawn: 500\n",
            "\n",
            " You Withdrew: 500.0\n",
            "\n",
            " Net Available Balance= 500.0\n",
            "\n",
            " \n",
            " Assignment 2\n",
            "Volume Of Cone : 314.15926535897927\n",
            "Surface Area Of Cone : 282.7433388230814\n"
          ],
          "name": "stdout"
        }
      ]
    }
  ]
}