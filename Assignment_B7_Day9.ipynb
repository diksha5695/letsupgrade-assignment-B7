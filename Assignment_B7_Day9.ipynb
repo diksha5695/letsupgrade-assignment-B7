{
  "nbformat": 4,
  "nbformat_minor": 0,
  "metadata": {
    "colab": {
      "name": "Untitled",
      "provenance": [],
      "authorship_tag": "ABX9TyOJ6x72GA4MgvJwgqPbGeDK",
      "include_colab_link": true
    },
    "kernelspec": {
      "name": "python3",
      "display_name": "Python 3"
    }
  },
  "cells": [
    {
      "cell_type": "markdown",
      "metadata": {
        "id": "view-in-github",
        "colab_type": "text"
      },
      "source": [
        "<a href=\"https://colab.research.google.com/github/diksha5695/letsupgrade-assignment-B7/blob/master/Assignment_B7_Day9.ipynb\" target=\"_parent\"><img src=\"https://colab.research.google.com/assets/colab-badge.svg\" alt=\"Open In Colab\"/></a>"
      ]
    },
    {
      "cell_type": "code",
      "metadata": {
        "id": "y5gqQi4SfAa3",
        "colab_type": "code",
        "colab": {
          "base_uri": "https://localhost:8080/",
          "height": 34
        },
        "outputId": "9f734c8c-b04f-4dc1-c193-6359c587a8cf"
      },
      "source": [
        "##Assignment 1:\n",
        "def armstrong_number_generator(first, last):\n",
        "  for num in range(first, last + 1):\n",
        "   order = len(str(num))\n",
        "   sum = 0\n",
        "   temp = num\n",
        "   while temp > 0:\n",
        "       digit = temp % 10\n",
        "       sum += digit ** order\n",
        "       temp //= 10\n",
        " \n",
        "   if num == sum:\n",
        "       yield (num)\n",
        " \n",
        "Number = armstrong_number_generator(1,1000)\n",
        "print(list(Number))"
      ],
      "execution_count": 8,
      "outputs": [
        {
          "output_type": "stream",
          "text": [
            "[1, 2, 3, 4, 5, 6, 7, 8, 9, 153, 370, 371, 407]\n"
          ],
          "name": "stdout"
        }
      ]
    },
    {
      "cell_type": "code",
      "metadata": {
        "id": "_19437h9hX7L",
        "colab_type": "code",
        "colab": {
          "base_uri": "https://localhost:8080/",
          "height": 34
        },
        "outputId": "b0e8a062-1a57-4bce-cd30-4568504bb1f3"
      },
      "source": [
        "##Assignment 2:\n",
        "\n",
        "%%writefile check_prime_number.py\n",
        " \n",
        "def prime_number(number):\n",
        "  if number > 1:\n",
        "    for i in range(2, number):\n",
        "      if (number % i) == 0:\n",
        "        return f\"Given {number} is not a prime number\"\n",
        "        break\n",
        "      else:\n",
        "        return f\"Given {number} is a prime number\"\n",
        "  \n",
        "  \n",
        " \n",
        "num = int(7)\n",
        "print(prime_number(num))\n",
        " \n",
        " \n",
        " \n",
        " \n",
        "import check_prime_number\n",
        " \n",
        "check_prime_number.prime_number(7)"
      ],
      "execution_count": 9,
      "outputs": [
        {
          "output_type": "stream",
          "text": [
            "Overwriting check_prime_number.py\n"
          ],
          "name": "stdout"
        }
      ]
    },
    {
      "cell_type": "code",
      "metadata": {
        "id": "cVMNPUyBhjGH",
        "colab_type": "code",
        "colab": {
          "base_uri": "https://localhost:8080/",
          "height": 34
        },
        "outputId": "a3759ad6-991f-42f3-f87c-a10de8aaae76"
      },
      "source": [
        " \n",
        "%%writefile find_prime_number.py\n",
        " \n",
        "import unittest\n",
        "import check_prime_number\n",
        " \n",
        "class test_prime_number(unittest.TestCase):\n",
        "  def test_any_number(self):\n",
        "    any_number = int(7)\n",
        "    result = check_prime_number.prime_number(any_number)\n",
        "    self.assertEquals(result, \"Given 7 is a prime number\")\n",
        " \n",
        "  def testing_number(self):\n",
        "    any_num = int(11)\n",
        "    result = check_prime_number.prime_number(any_num)\n",
        "    self.assertEquals(result, \"Given 11 is a prime number\")\n",
        " \n",
        "if __name__ == \"__main__\":\n",
        "  unittest.main()"
      ],
      "execution_count": 10,
      "outputs": [
        {
          "output_type": "stream",
          "text": [
            "Overwriting find_prime_number.py\n"
          ],
          "name": "stdout"
        }
      ]
    },
    {
      "cell_type": "code",
      "metadata": {
        "id": "GdqF_fcvhlhv",
        "colab_type": "code",
        "colab": {
          "base_uri": "https://localhost:8080/",
          "height": 119
        },
        "outputId": "35117916-46ca-49b4-9860-43000723b187"
      },
      "source": [
        "! python find_prime_number.py"
      ],
      "execution_count": 11,
      "outputs": [
        {
          "output_type": "stream",
          "text": [
            "Given 7 is a prime number\n",
            "..\n",
            "----------------------------------------------------------------------\n",
            "Ran 2 tests in 0.000s\n",
            "\n",
            "OK\n"
          ],
          "name": "stdout"
        }
      ]
    }
  ]
}