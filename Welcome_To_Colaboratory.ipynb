{
  "nbformat": 4,
  "nbformat_minor": 0,
  "metadata": {
    "colab": {
      "name": "Welcome To Colaboratory",
      "provenance": [],
      "collapsed_sections": [],
      "include_colab_link": true
    },
    "kernelspec": {
      "display_name": "Python 3",
      "name": "python3"
    }
  },
  "cells": [
    {
      "cell_type": "markdown",
      "metadata": {
        "id": "view-in-github",
        "colab_type": "text"
      },
      "source": [
        "<a href=\"https://colab.research.google.com/github/diksha5695/letsupgrade-assignment-B7/blob/master/Welcome_To_Colaboratory.ipynb\" target=\"_parent\"><img src=\"https://colab.research.google.com/assets/colab-badge.svg\" alt=\"Open In Colab\"/></a>"
      ]
    },
    {
      "cell_type": "code",
      "metadata": {
        "id": "LHIdSQ9T9hsT",
        "colab_type": "code",
        "colab": {
          "base_uri": "https://localhost:8080/",
          "height": 901
        },
        "outputId": "cb2d2136-7e15-4aef-ed5f-615823bb91ef"
      },
      "source": [
        " \n",
        "#Question : \n",
        "# You are all pilots, you have to land a plane, altitude require for landing a plane is 1000ft, if it is less than that then tell pilot to land a plane or it is more than that but less than 5000f then ask pilot to come down 1000ft, else if it is more than 5000ft then ask pilot to go around and try later\n",
        " \n",
        "#Solution\n",
        " \n",
        "required_altitude = 1000\n",
        " \n",
        "resulted_altitude = int(input('enter the resulted altitude:', ))\n",
        " \n",
        "print ('The resulted altitude is:', resulted_altitude)\n",
        " \n",
        "if resulted_altitude < required_altitude :\n",
        "  print ('you can land a plane')\n",
        " \n",
        "elif resulted_altitude > required_altitude and resulted_altitude < 5000 :\n",
        "   print ('come down to 1000ft for landing')\n",
        " \n",
        "else:\n",
        "   print ('go around and try later')\n",
        " \n",
        " \n",
        " \n",
        "###Assignment-2 Day-3 Batch-7\n",
        " \n",
        "# Using for loop print all prime number between 1 to 200 with range function\n",
        "print (\"\\n assignment 2 \")\n",
        "for i in range(1, 201): \n",
        "    for j in range(2,i): \n",
        "        if(i % j == 0): \n",
        "            break\n",
        "    else: \n",
        "       \n",
        "        print(i)"
      ],
      "execution_count": 9,
      "outputs": [
        {
          "output_type": "stream",
          "text": [
            "enter the resulted altitude:2000\n",
            "The resulted altitude is: 2000\n",
            "come down to 1000ft for landing\n",
            "\n",
            " assignment 2 \n",
            "1\n",
            "2\n",
            "3\n",
            "5\n",
            "7\n",
            "11\n",
            "13\n",
            "17\n",
            "19\n",
            "23\n",
            "29\n",
            "31\n",
            "37\n",
            "41\n",
            "43\n",
            "47\n",
            "53\n",
            "59\n",
            "61\n",
            "67\n",
            "71\n",
            "73\n",
            "79\n",
            "83\n",
            "89\n",
            "97\n",
            "101\n",
            "103\n",
            "107\n",
            "109\n",
            "113\n",
            "127\n",
            "131\n",
            "137\n",
            "139\n",
            "149\n",
            "151\n",
            "157\n",
            "163\n",
            "167\n",
            "173\n",
            "179\n",
            "181\n",
            "191\n",
            "193\n",
            "197\n",
            "199\n"
          ],
          "name": "stdout"
        }
      ]
    }
  ]
}